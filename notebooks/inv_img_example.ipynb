{
 "cells": [
  {
   "cell_type": "code",
   "execution_count": 1,
   "id": "initial_id",
   "metadata": {
    "ExecuteTime": {
     "end_time": "2024-10-02T09:51:50.293650Z",
     "start_time": "2024-10-02T09:51:46.935328Z"
    },
    "collapsed": true
   },
   "outputs": [],
   "source": [
    "import pandas as pd\n",
    "import sys\n",
    "import torch\n",
    "\n",
    "from torchvision import transforms"
   ]
  },
  {
   "cell_type": "code",
   "execution_count": 2,
   "id": "13b223b9a07f2741",
   "metadata": {
    "ExecuteTime": {
     "end_time": "2024-10-02T09:51:50.311556Z",
     "start_time": "2024-10-02T09:51:50.306371Z"
    }
   },
   "outputs": [],
   "source": [
    "sys.path.append('/root/thesis-code/src')"
   ]
  },
  {
   "cell_type": "code",
   "execution_count": null,
   "id": "76975f909f4a4662",
   "metadata": {
    "ExecuteTime": {
     "end_time": "2024-10-02T09:51:55.077297Z",
     "start_time": "2024-10-02T09:51:51.005807Z"
    }
   },
   "outputs": [],
   "source": [
    "from utils import load_data as ld\n",
    "from utils import similarity as sim"
   ]
  },
  {
   "cell_type": "code",
   "execution_count": 4,
   "id": "8604fcfd22e685ad",
   "metadata": {
    "ExecuteTime": {
     "end_time": "2024-10-02T09:53:56.465790Z",
     "start_time": "2024-10-02T09:51:55.104371Z"
    }
   },
   "outputs": [],
   "source": [
    "densenet_inv_eps0 = torch.load(\"thesis-code/data/imagenet/inverted/densenet161_eps0_uint8.pt\")\n",
    "densenet_inv_eps3 = torch.load(\"thesis-code/data/imagenet/inverted/densenet161_eps3_uint8.pt\")"
   ]
  },
  {
   "cell_type": "code",
   "execution_count": 5,
   "id": "157cf248ef173a2d",
   "metadata": {
    "ExecuteTime": {
     "end_time": "2024-10-02T09:55:34.179739Z",
     "start_time": "2024-10-02T09:53:56.705060Z"
    }
   },
   "outputs": [],
   "source": [
    "vgg_inv_eps0 = torch.load(\"thesis-code/data/imagenet/inverted/vgg16_bn_eps0_uint8.pt\")\n",
    "vgg_inv_eps3 = torch.load(\"thesis-code/data/imagenet/inverted/vgg16_bn_eps3_uint8.pt\")"
   ]
  },
  {
   "cell_type": "code",
   "execution_count": null,
   "id": "2411553766a7013d",
   "metadata": {
    "ExecuteTime": {
     "end_time": "2024-10-02T09:56:23.254160Z",
     "start_time": "2024-10-02T09:55:56.975097Z"
    }
   },
   "outputs": [],
   "source": [
    "indices = list(pd.read_csv(\"thesis-code/results/cka/inverted/10000/imagenet/target_indices_0.csv\", index_col=0)['0'])\n",
    "transform = transforms.Compose([transforms.Resize(255), transforms.CenterCrop(224), transforms.ToTensor()])\n",
    "images, labels = ld.load_images(\"thesis-code/data/imagenet/labels/labels.csv\", \"thesis-code/data/imagenet/images/\", transform, 10, indices[0:500])"
   ]
  },
  {
   "cell_type": "code",
   "execution_count": 8,
   "id": "6907e2be7e863b4a",
   "metadata": {
    "ExecuteTime": {
     "end_time": "2024-10-02T09:56:23.318580Z",
     "start_time": "2024-10-02T09:56:23.265588Z"
    }
   },
   "outputs": [],
   "source": [
    "target_images = torch.stack(images)"
   ]
  },
  {
   "cell_type": "code",
   "execution_count": null,
   "id": "9c9caab84c19e14f",
   "metadata": {
    "ExecuteTime": {
     "end_time": "2024-10-02T09:56:28.513911Z",
     "start_time": "2024-10-02T09:56:23.369490Z"
    }
   },
   "outputs": [],
   "source": [
    "seed_indices = list(pd.read_csv(\"thesis-code/results/cka/inverted/10000/imagenet/seed_indices_0.csv\", index_col=0)['0'])\n",
    "seed_img, seed_labels = ld.load_images(\"thesis-code/data/imagenet/labels/labels.csv\", \"thesis-code/data/imagenet/images/\", transform, 10, seed_indices[0:500])"
   ]
  },
  {
   "cell_type": "code",
   "execution_count": 10,
   "id": "8cd369bec09fb010",
   "metadata": {
    "ExecuteTime": {
     "end_time": "2024-10-02T09:56:28.621428Z",
     "start_time": "2024-10-02T09:56:28.548961Z"
    }
   },
   "outputs": [],
   "source": [
    "seed_images = torch.stack(seed_img)"
   ]
  },
  {
   "cell_type": "code",
   "execution_count": null,
   "id": "29d18279817a9c8d",
   "metadata": {
    "ExecuteTime": {
     "end_time": "2024-10-02T09:56:29.421297Z",
     "start_time": "2024-10-02T09:56:28.656232Z"
    }
   },
   "outputs": [],
   "source": [
    "num = 300 # 200\n",
    "sim.imshow(seed_images[num])\n",
    "sim.imshow(target_images[num])\n",
    "sim.imshow(vgg_inv_eps0[num])\n",
    "sim.imshow(vgg_inv_eps3[num])"
   ]
  },
  {
   "cell_type": "code",
   "execution_count": null,
   "id": "205a87405d1c39af",
   "metadata": {
    "ExecuteTime": {
     "end_time": "2024-10-01T21:37:51.340960Z",
     "start_time": "2024-10-01T21:37:51.158395Z"
    }
   },
   "outputs": [],
   "source": [
    "from matplotlib import pyplot as plt\n",
    "fig, ax = plt.subplots(figsize=(10,10))\n",
    "image = vgg_inv_eps0[num].numpy().transpose((1, 2, 0))\n",
    "ax.imshow(image)\n",
    "ax.tick_params(axis='both', length=0)\n",
    "ax.set_xticklabels('')\n",
    "ax.set_yticklabels('')\n",
    "plt.grid(None)\n",
    "plt.show()\n",
    "\n",
    "fig.savefig(\"vgg16_inverted_eps0.pdf\")"
   ]
  },
  {
   "cell_type": "code",
   "execution_count": null,
   "id": "4ce5df86deeac362",
   "metadata": {
    "ExecuteTime": {
     "end_time": "2024-10-02T10:17:55.858556Z",
     "start_time": "2024-10-02T10:17:55.352655Z"
    }
   },
   "outputs": [],
   "source": [
    "from matplotlib import pyplot as plt\n",
    "\n",
    "fig, ax = plt.subplots(1, 3, figsize=(10,10))\n",
    "\n",
    "ax[0].imshow(seed_images[num].numpy().transpose((1, 2, 0)))\n",
    "ax[0].tick_params(axis='both', length=0)\n",
    "ax[0].set_xticklabels('')\n",
    "ax[0].set_yticklabels('')\n",
    "ax[0].grid(None)\n",
    "ax[0].title.set_text(\"Seed image\")\n",
    "\n",
    "ax[1].imshow(vgg_inv_eps0[num].numpy().transpose((1, 2, 0)))\n",
    "ax[1].tick_params(axis='both', length=0)\n",
    "ax[1].set_xticklabels('')\n",
    "ax[1].set_yticklabels('')\n",
    "ax[1].grid(None)\n",
    "ax[1].title.set_text(r\"VGG-16-BN $\\epsilon=0$\")\n",
    "\n",
    "ax[2].imshow(densenet_inv_eps0[num].numpy().transpose((1, 2, 0)))\n",
    "ax[2].tick_params(axis='both', length=0)\n",
    "ax[2].set_xticklabels('')\n",
    "ax[2].set_yticklabels('')\n",
    "ax[2].grid(None)\n",
    "ax[2].title.set_text(r\"Densenet-161 $\\epsilon=0$\")\n",
    "\n",
    "plt.show()\n",
    "\n",
    "fig.savefig(\"seed_row.pdf\", bbox_inches='tight')"
   ]
  },
  {
   "cell_type": "code",
   "execution_count": null,
   "id": "5898ec0bf60a7989",
   "metadata": {
    "ExecuteTime": {
     "end_time": "2024-10-02T10:18:00.260911Z",
     "start_time": "2024-10-02T10:17:59.773201Z"
    }
   },
   "outputs": [],
   "source": [
    "fig, ax = plt.subplots(1, 3, figsize=(10,10))\n",
    "\n",
    "ax[0].imshow(target_images[num].numpy().transpose((1, 2, 0)))\n",
    "ax[0].tick_params(axis='both', length=0)\n",
    "ax[0].set_xticklabels('')\n",
    "ax[0].set_yticklabels('')\n",
    "ax[0].grid(None)\n",
    "ax[0].title.set_text(\"Target image\")\n",
    "\n",
    "ax[1].imshow(vgg_inv_eps3[num].numpy().transpose((1, 2, 0)))\n",
    "ax[1].tick_params(axis='both', length=0)\n",
    "ax[1].set_xticklabels('')\n",
    "ax[1].set_yticklabels('')\n",
    "ax[1].grid(None)\n",
    "ax[1].title.set_text(r\"VGG-16-BN $\\epsilon=3$\")\n",
    "\n",
    "ax[2].imshow(densenet_inv_eps3[num].numpy().transpose((1, 2, 0)))\n",
    "ax[2].tick_params(axis='both', length=0)\n",
    "ax[2].set_xticklabels('')\n",
    "ax[2].set_yticklabels('')\n",
    "ax[2].title.set_text(r\"Densenet-161 $\\epsilon=3$\")\n",
    "\n",
    "plt.grid(None)\n",
    "plt.show()\n",
    "\n",
    "fig.savefig(\"target_row.pdf\", bbox_inches='tight')"
   ]
  },
  {
   "cell_type": "code",
   "execution_count": null,
   "id": "d9e835c818a8cd20",
   "metadata": {},
   "outputs": [],
   "source": []
  }
 ],
 "metadata": {
  "kernelspec": {
   "display_name": "Python 3",
   "language": "python",
   "name": "python3"
  },
  "language_info": {
   "codemirror_mode": {
    "name": "ipython",
    "version": 2
   },
   "file_extension": ".py",
   "mimetype": "text/x-python",
   "name": "python",
   "nbconvert_exporter": "python",
   "pygments_lexer": "ipython2",
   "version": "2.7.6"
  }
 },
 "nbformat": 4,
 "nbformat_minor": 5
}
