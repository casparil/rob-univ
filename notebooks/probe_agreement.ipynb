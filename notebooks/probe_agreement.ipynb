{
 "cells": [
  {
   "cell_type": "code",
   "execution_count": null,
   "metadata": {},
   "outputs": [],
   "source": [
    "import pandas as pd\n",
    "import seaborn as sns\n",
    "import matplotlib.pyplot as plt\n",
    "from IPython.display import display\n",
    "\n",
    "data_probe_10epochs = pd.read_csv(\"../results/probing/probe_agreement_10epochs.csv\")\n",
    "data_probe_30epochs = pd.read_csv(\"../results/probing/probe_agreement_30epochs.csv\")\n",
    "data_probe_30epochs_noNorm = pd.read_csv(\"../results/probing/probe_agreement_30epochs_noNorm.csv\")\n",
    "data_probe_10epochs.head()\n",
    "\n",
    "data_with_pretrained_classifiers_eps0 = pd.read_csv(\"../results/probing/agreement_with_pretrained_classifiers_eps0.csv\", index_col=0).reset_index(drop=True)\n",
    "data_with_pretrained_classifiers_eps3 = pd.read_csv(\"../results/probing/agreement_with_pretrained_classifiers_eps3.csv\", index_col=0).reset_index(drop=True)\n",
    "\n",
    "# extract model names from probe_1 and probe_2 columns\n",
    "data_probe_10epochs[\"model1\"] = data_probe_10epochs[\"probe_1\"].str.split(\"/\").str[1]\n",
    "data_probe_10epochs[\"model2\"] = data_probe_10epochs[\"probe_2\"].str.split(\"/\").str[1]\n",
    "\n",
    "data_probe_30epochs[\"model1\"] = data_probe_30epochs[\"probe_1\"].str.split(\"/\").str[1]\n",
    "data_probe_30epochs[\"model2\"] = data_probe_30epochs[\"probe_2\"].str.split(\"/\").str[1]\n",
    "\n",
    "data_probe_30epochs_noNorm[\"model1\"] = data_probe_30epochs_noNorm[\"probe_1\"].str.split(\"/\").str[2]\n",
    "data_probe_30epochs_noNorm[\"model2\"] = data_probe_30epochs_noNorm[\"probe_2\"].str.split(\"/\").str[2]\n",
    "\n",
    "# homogenize column of dataframes\n",
    "data_with_pretrained_classifiers_eps0.rename(columns={\"score\": \"agreement\"}, inplace=True)\n",
    "data_with_pretrained_classifiers_eps3.rename(columns={\"score\": \"agreement\"}, inplace=True)\n",
    "data_with_pretrained_classifiers_eps0.loc[:, \"dataset\"] = data_with_pretrained_classifiers_eps0[\"dataset\"].map({\"imagenet1k\": \"in1k\"})\n",
    "data_with_pretrained_classifiers_eps3.loc[:, \"dataset\"] = data_with_pretrained_classifiers_eps3[\"dataset\"].map({\"imagenet1k\": \"in1k\"})\n",
    "\n",
    "probe_model_names_to_canonical_names = {\n",
    "    \"resnet50\": \"resnet50\",\n",
    "    \"resnet18\": \"resnet18\",\n",
    "    \"wide_rn50_2\": \"wide_resnet50_2\",\n",
    "    \"wide_rn50_4\": \"wide_resnet50_4\",\n",
    "    \"densenet161\": \"densenet161\",\n",
    "    \"resnext\": \"resnext50_32x4d\",\n",
    "    \"vgg16\": \"vgg16_bn\"\n",
    "}\n",
    "data_probe_10epochs.loc[:, \"dataset\"] = data_probe_10epochs.loc[:, \"model1\"].str.split(\"_\").str[-1]\n",
    "data_probe_10epochs.loc[:, \"model1\"] = data_probe_10epochs.loc[:, \"model1\"].str.split(\"_\").str[:-1].str.join(\"_\").map(probe_model_names_to_canonical_names)\n",
    "data_probe_10epochs.loc[:, \"model2\"] = data_probe_10epochs.loc[:, \"model2\"].str.split(\"_\").str[:-1].str.join(\"_\").map(probe_model_names_to_canonical_names)\n",
    "\n",
    "data_probe_30epochs.loc[:, \"dataset\"] = data_probe_30epochs.loc[:, \"model1\"].str.split(\"_\").str[-2]\n",
    "data_probe_30epochs.loc[:, \"model1\"] = data_probe_30epochs.loc[:, \"model1\"].str.split(\"_\").str[:-2].str.join(\"_\").map(probe_model_names_to_canonical_names)\n",
    "data_probe_30epochs.loc[:, \"model2\"] = data_probe_30epochs.loc[:, \"model2\"].str.split(\"_\").str[:-2].str.join(\"_\").map(probe_model_names_to_canonical_names)\n",
    "\n",
    "data_probe_30epochs_noNorm.loc[:, \"dataset\"] = data_probe_30epochs_noNorm.loc[:, \"model1\"].str.split(\"_\").str[-3]\n",
    "data_probe_30epochs_noNorm.loc[:, \"model1\"] = data_probe_30epochs_noNorm.loc[:, \"model1\"].str.split(\"_\").str[:-3].str.join(\"_\").map(probe_model_names_to_canonical_names)\n",
    "data_probe_30epochs_noNorm.loc[:, \"model2\"] = data_probe_30epochs_noNorm.loc[:, \"model2\"].str.split(\"_\").str[:-3].str.join(\"_\").map(probe_model_names_to_canonical_names)\n",
    "\n",
    "# check whether probes are for the same model\n",
    "data_probe_10epochs[\"same_model\"] = data_probe_10epochs[\"model1\"] == data_probe_10epochs[\"model2\"]\n",
    "data_probe_30epochs[\"same_model\"] = data_probe_30epochs[\"model1\"] == data_probe_30epochs[\"model2\"]\n",
    "data_probe_30epochs_noNorm[\"same_model\"] = data_probe_30epochs_noNorm[\"model1\"] == data_probe_30epochs_noNorm[\"model2\"]\n",
    "\n",
    "# add canoncial pair ids\n",
    "data_probe_10epochs[\"pair_id\"] = data_probe_10epochs.apply(lambda row: f\"{tuple(sorted([row['model1'], row['model2']]))}\", axis=1)\n",
    "data_probe_30epochs[\"pair_id\"] = data_probe_30epochs.apply(lambda row: f\"{tuple(sorted([row['model1'], row['model2']]))}\", axis=1)\n",
    "data_probe_30epochs_noNorm[\"pair_id\"] = data_probe_30epochs_noNorm.apply(lambda row: f\"{tuple(sorted([row['model1'], row['model2']]))}\", axis=1)\n",
    "data_with_pretrained_classifiers_eps0[\"pair_id\"] = data_with_pretrained_classifiers_eps0.apply(lambda row: f\"{tuple(sorted([row['model1'], row['model2']]))}\", axis=1)\n",
    "data_with_pretrained_classifiers_eps3[\"pair_id\"] = data_with_pretrained_classifiers_eps3.apply(lambda row: f\"{tuple(sorted([row['model1'], row['model2']]))}\", axis=1)\n",
    "\n",
    "# add epsilon\n",
    "data_probe_10epochs[\"eps\"] = 3.0\n",
    "data_probe_30epochs[\"eps\"] = 3.0\n",
    "data_probe_30epochs_noNorm[\"eps\"] = 3.0\n",
    "\n",
    "# add experiment identifier\n",
    "data_probe_10epochs[\"experiment\"] = \"probe_10epochs\"\n",
    "data_probe_30epochs[\"experiment\"] = \"probe_30epochs\"\n",
    "data_probe_30epochs_noNorm[\"experiment\"] = \"probe_30epochs_noNorm\"\n",
    "data_with_pretrained_classifiers_eps0[\"experiment\"] = \"pretrained_classifier_eps0\"\n",
    "data_with_pretrained_classifiers_eps3[\"experiment\"] = \"pretrained_classifier_eps3\"\n",
    "\n",
    "# display(data_probe_10epochs.head())\n",
    "# display(data_probe_30epochs.head())\n",
    "# display(data_probe_30epochs_noNorm.head())\n",
    "# display(data_with_pretrained_classifiers.head())\n",
    "\n",
    "df = pd.concat([data_probe_10epochs, data_probe_30epochs, data_probe_30epochs_noNorm, data_with_pretrained_classifiers_eps0, data_with_pretrained_classifiers_eps3])\n",
    "df.head()"
   ]
  },
  {
   "cell_type": "code",
   "execution_count": null,
   "metadata": {},
   "outputs": [],
   "source": [
    "sns.stripplot(data=data_probe_10epochs.loc[data_probe_10epochs.same_model], x=\"agreement\", y=\"model1\")"
   ]
  },
  {
   "cell_type": "code",
   "execution_count": null,
   "metadata": {},
   "outputs": [],
   "source": [
    "sns.stripplot(data=data_probe_10epochs.loc[~data_probe_10epochs.same_model], x=\"agreement\", y=\"pair_id\")\n"
   ]
  },
  {
   "cell_type": "code",
   "execution_count": null,
   "metadata": {},
   "outputs": [],
   "source": [
    "\n",
    "plotdata_probe_10epochs = data_probe_10epochs.loc[~data_probe_10epochs.same_model].groupby([\"eps\", \"pair_id\", \"experiment\"])[[\"agreement\"]].mean().reset_index()\n",
    "plotdata_probe_30epochs = data_probe_30epochs.loc[~data_probe_30epochs.same_model].groupby([\"eps\", \"pair_id\", \"experiment\"])[[\"agreement\"]].mean().reset_index()\n",
    "plotdata_probe_30epochs_noNorm = data_probe_30epochs_noNorm.loc[~data_probe_30epochs_noNorm.same_model].groupby([\"eps\", \"pair_id\", \"experiment\"])[[\"agreement\"]].mean().reset_index()\n",
    "plotdata_pretrained_classifier_eps0 = data_with_pretrained_classifiers_eps0.groupby([\"eps\", \"pair_id\", \"experiment\"])[[\"agreement\"]].mean().reset_index()\n",
    "plotdata_pretrained_classifier_eps3 = data_with_pretrained_classifiers_eps3.groupby([\"eps\", \"pair_id\", \"experiment\"])[[\"agreement\"]].mean().reset_index()\n",
    "# display(plotdata_probe_10epochs .head())\n",
    "# display(plotdata_probe_30epochs.head())\n",
    "# display(plotdata_pretrained_classifier_eps0.head())\n",
    "# display(plotdata_pretrained_classifier_eps3.head())\n",
    "print(len(plotdata_probe_10epochs), len(plotdata_probe_30epochs), len(plotdata_probe_30epochs_noNorm), len(plotdata_pretrained_classifier_eps0), len(plotdata_pretrained_classifier_eps3))\n",
    "\n",
    "plotdata = pd.concat([plotdata_probe_10epochs, plotdata_probe_30epochs, plotdata_probe_30epochs_noNorm, plotdata_pretrained_classifier_eps0, plotdata_pretrained_classifier_eps3])\n",
    "sns.set_style(\"whitegrid\")\n",
    "sns.catplot(data=plotdata, y=\"agreement\", x=\"eps\", kind=\"box\", hue=\"experiment\")\n",
    "sns.catplot(data=plotdata, x=\"agreement\", y=\"experiment\", kind=\"strip\", hue=\"pair_id\", aspect=1.5)\n"
   ]
  },
  {
   "cell_type": "code",
   "execution_count": null,
   "metadata": {},
   "outputs": [],
   "source": [
    "plotdata.loc[:, \"model1\"] = plotdata.pair_id.str.strip(\"()\").str.split(\",\").str[0]\n",
    "plotdata.loc[:, \"model2\"] = plotdata.pair_id.str.strip(\"()\").str.split(\",\").str[1]\n",
    "\n",
    "plotdata.head()"
   ]
  },
  {
   "cell_type": "code",
   "execution_count": null,
   "metadata": {},
   "outputs": [],
   "source": [
    "sns.catplot(data=plotdata, x=\"agreement\", y=\"experiment\", kind=\"strip\", hue=\"model1\", aspect=1.5)\n"
   ]
  },
  {
   "cell_type": "markdown",
   "metadata": {},
   "source": [
    "## Realign Paper Plot"
   ]
  },
  {
   "cell_type": "code",
   "execution_count": null,
   "metadata": {},
   "outputs": [],
   "source": [
    "plotdata_probe_10epochs = data_probe_10epochs.loc[~data_probe_10epochs.same_model].groupby([\"eps\", \"pair_id\", \"experiment\"])[[\"agreement\"]].mean().reset_index()\n",
    "plotdata_probe_30epochs = data_probe_30epochs.loc[~data_probe_30epochs.same_model].groupby([\"eps\", \"pair_id\", \"experiment\"])[[\"agreement\"]].mean().reset_index()\n",
    "plotdata_probe_30epochs_noNorm = data_probe_30epochs_noNorm.loc[~data_probe_30epochs_noNorm.same_model].groupby([\"eps\", \"pair_id\", \"experiment\"])[[\"agreement\"]].mean().reset_index()\n",
    "plotdata_pretrained_classifier_eps0 = data_with_pretrained_classifiers_eps0.groupby([\"eps\", \"pair_id\", \"experiment\"])[[\"agreement\"]].mean().reset_index()\n",
    "plotdata_pretrained_classifier_eps3 = data_with_pretrained_classifiers_eps3.groupby([\"eps\", \"pair_id\", \"experiment\"])[[\"agreement\"]].mean().reset_index()\n",
    "\n",
    "plotdata = pd.concat([plotdata_probe_10epochs, plotdata_probe_30epochs, plotdata_probe_30epochs_noNorm, plotdata_pretrained_classifier_eps0, plotdata_pretrained_classifier_eps3])\n",
    "\n",
    "plotdata.loc[:, \"model1\"] = plotdata.pair_id.str.strip(\"()\").str.split(\",\").str[0]\n",
    "plotdata.loc[:, \"model2\"] = plotdata.pair_id.str.strip(\"()\").str.split(\",\").str[1]\n",
    "\n",
    "plotdata.head()\n",
    "\n",
    "plotdata = plotdata.loc[plotdata.experiment.isin([\"probe_30epochs_noNorm\", \"pretrained_classifier_eps0\", \"pretrained_classifier_eps3\"])]\n",
    "plotdata.loc[:, \"experiment\"] = plotdata.loc[:, \"experiment\"].map(\n",
    "    {\n",
    "        \"probe_30epochs_noNorm\": \"Probes\",\n",
    "        \"pretrained_classifier_eps0\": r\"Pretrained $\\epsilon=0$\",\n",
    "        \"pretrained_classifier_eps3\": r\"Pretrained $\\epsilon=3$\",\n",
    "    }\n",
    ")\n",
    "order = [r\"Pretrained $\\epsilon=0$\", r\"Pretrained $\\epsilon=3$\", \"Probes\"]\n",
    "\n",
    "sns.set_style(\"darkgrid\")\n",
    "n_panels = 1\n",
    "fig, axes = plt.subplots(1, n_panels, figsize=(n_panels*3*1.61, 3))\n",
    "sns.boxplot(data=plotdata, y=\"experiment\", x=\"agreement\", order=order, ax=axes, boxprops={'alpha': 0.3}, color=\"darkturquoise\")\n",
    "sns.stripplot(data=plotdata, y=\"experiment\", x=\"agreement\", order=order, dodge=True, ax=axes, color=\"darkcyan\", alpha=0.8)\n",
    "axes.set_ylabel(\"Classifiers\")\n",
    "axes.set_xlabel(\"Agreement\")\n",
    "\n",
    "fig.savefig(\"../figs/probe_agreement.pdf\", bbox_inches=\"tight\")"
   ]
  },
  {
   "cell_type": "code",
   "execution_count": null,
   "metadata": {},
   "outputs": [],
   "source": [
    "plotdata.experiment.unique()"
   ]
  }
 ],
 "metadata": {
  "kernelspec": {
   "display_name": "univ",
   "language": "python",
   "name": "python3"
  },
  "language_info": {
   "codemirror_mode": {
    "name": "ipython",
    "version": 3
   },
   "file_extension": ".py",
   "mimetype": "text/x-python",
   "name": "python",
   "nbconvert_exporter": "python",
   "pygments_lexer": "ipython3",
   "version": "3.8.19"
  }
 },
 "nbformat": 4,
 "nbformat_minor": 2
}
