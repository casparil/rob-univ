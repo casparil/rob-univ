{
 "cells": [
  {
   "cell_type": "markdown",
   "id": "586ce060",
   "metadata": {},
   "source": [
    "## Paper Plot"
   ]
  },
  {
   "cell_type": "code",
   "execution_count": null,
   "id": "ca14a8c5",
   "metadata": {},
   "outputs": [],
   "source": [
    "import pandas as pd\n",
    "\n",
    "df = pd.read_csv(\"/root/cache/repsim_subgroups.csv\", index_col=0)\n",
    "df.loc[df[\"k\"].isna(), \"k\"] = -1\n",
    "df.loc[df[\"perc_k\"].isna(), \"perc_k\"] = -1\n",
    "\n",
    "df.loc[df.metric == \"proc\", \"score\"] = (2 - df.loc[df.metric == \"proc\", \"score\"]) / 2\n",
    "df.loc[df.metric == \"rtd\", \"score\"] = -1 *  df.loc[df.metric == \"rtd\", \"score\"]\n",
    "\n",
    "df.head()"
   ]
  },
  {
   "cell_type": "code",
   "execution_count": 35,
   "id": "2cc5f610",
   "metadata": {},
   "outputs": [],
   "source": [
    "# df = df.loc[~((~df.metric.isin([\"cka\", \"proc\"])) & (df.eps == 3))]#.groupby([\"k\", \"perc_k\", \"metric\", \"pred_type\", \"eps\"], dropna=False)[\"score\"].describe()"
   ]
  },
  {
   "cell_type": "code",
   "execution_count": null,
   "id": "df77a235",
   "metadata": {},
   "outputs": [],
   "source": [
    "df.groupby([\"k\", \"perc_k\", \"metric\", \"pred_type\", \"eps\"], dropna=False)[\"score\"].describe()"
   ]
  },
  {
   "cell_type": "code",
   "execution_count": null,
   "id": "fed3db3e",
   "metadata": {},
   "outputs": [],
   "source": [
    "df[\"metric_id\"] = df[\"metric\"] + \"_\" + df[\"k\"].astype(str)+ \"_\" + df[\"perc_k\"].astype(str)\n",
    "df"
   ]
  },
  {
   "cell_type": "code",
   "execution_count": null,
   "id": "8e47323e",
   "metadata": {},
   "outputs": [],
   "source": [
    "import seaborn as sns\n",
    "\n",
    "plotdata = df.loc[(df.model1 != df.model2)]\n",
    "sns.catplot(data=plotdata, y=\"score\", hue=\"pred_type\", x=\"eps\", col=\"metric_id\", col_wrap=5, sharey=False, kind=\"boxen\")"
   ]
  },
  {
   "cell_type": "code",
   "execution_count": null,
   "id": "30702a9a",
   "metadata": {},
   "outputs": [],
   "source": [
    "from matplotlib.colors import Normalize, LinearSegmentedColormap\n",
    "import matplotlib.pyplot as plt\n",
    "\n",
    "sns.set_style(\"darkgrid\")\n",
    "\n",
    "metrics = [\"cka_-1.0_-1.0\", \"proc_-1.0_-1.0\", \"rtd_-1.0_-1.0\", \"jacc_10.0_-1.0\"]\n",
    "# plotdata = df.loc[(df.model1 != df.model2) & (df.metric_id.isin(metrics))]\n",
    "# sns.catplot(data=plotdata, y=\"score\", hue=\"pred_type\", x=\"eps\", col=\"metric_id\", sharey=False, kind=\"boxen\")\n",
    "\n",
    "n_panels = 4\n",
    "models = [\"resnet18\", \"resnet50\", \"wide_resnet50_2\", \"wide_resnet50_4\", \"densenet161\", \"vgg16\", \"resnext50_32x4d\"]\n",
    "\n",
    "fig, axes = plt.subplots(1, n_panels, figsize=(n_panels*3*1.61, 3))\n",
    "ax_idx = 0\n",
    "xlabel = r\"Robustness ($\\epsilon$)\"\n",
    "\n",
    "plotdata = df.loc[(df.metric_id == \"cka_-1.0_-1.0\") & (df.model1 != df.model2) & (df.model1.isin(models)) & (df.model2.isin(models))]\n",
    "ax = axes[ax_idx]\n",
    "sns.boxplot(plotdata, x=\"eps\", y=\"score\", ax=ax, hue=\"pred_type\", palette=\"Set2\", legend=False)\n",
    "# sns.stripplot(data=plotdata, x=\"eps\", y=\"score\", ax=ax, hue=\"pred_type\", dodge=True, alpha=0.8)\n",
    "ax.set_title(\"CKA\")\n",
    "ax.set_ylabel(\"Regular Representation\\nSimilarity\")\n",
    "ax.set_xlabel(xlabel)\n",
    "ax_idx += 1\n",
    "\n",
    "plotdata = df.loc[(df.metric_id == \"proc_-1.0_-1.0\") & (df.model1 != df.model2) & (df.model1.isin(models)) & (df.model2.isin(models))]\n",
    "ax = axes[ax_idx]\n",
    "sns.boxplot(plotdata, x=\"eps\", y=\"score\", ax=ax, hue=\"pred_type\", palette=\"Set2\", legend=False)\n",
    "# sns.stripplot(data=plotdata, x=\"eps\", y=\"score\", ax=ax, hue=\"pred_type\", dodge=True, alpha=0.8)\n",
    "ax.set_title(\"ProcrustesSim\")\n",
    "ax.set_ylabel(\"\")\n",
    "ax.set_xlabel(xlabel)\n",
    "ax_idx += 1\n",
    "\n",
    "plotdata = df.loc[(df.metric_id == \"rtd_-1.0_-1.0\") & (df.model1 != df.model2) & (df.model1.isin(models)) & (df.model2.isin(models))]\n",
    "ax = axes[ax_idx]\n",
    "sns.boxplot(plotdata, x=\"eps\", y=\"score\", ax=ax, hue=\"pred_type\", palette=\"Set2\", legend=False)\n",
    "# sns.stripplot(data=plotdata, x=\"eps\", y=\"score\", ax=ax, hue=\"pred_type\", dodge=True, alpha=0.8)\n",
    "ax.set_title(\"neg. RTD\")\n",
    "ax.set_ylabel(\"\")\n",
    "ax.set_xlabel(xlabel)\n",
    "ax_idx += 1\n",
    "\n",
    "plotdata = df.loc[(df.metric_id == \"jacc_10.0_-1.0\") & (df.model1 != df.model2) & (df.model1.isin(models)) & (df.model2.isin(models))]\n",
    "ax = axes[ax_idx]\n",
    "sns.boxplot(plotdata, x=\"eps\", y=\"score\", ax=ax, hue=\"pred_type\", palette=\"Set2\", legend=True)\n",
    "# sns.stripplot(data=plotdata, x=\"eps\", y=\"score\", ax=ax, hue=\"pred_type\", dodge=True, alpha=0.8)\n",
    "ax.set_title(\"Jaccard\")\n",
    "ax.set_ylabel(\"\")\n",
    "ax.set_xlabel(xlabel)\n",
    "sns.move_legend(ax, \"center\", bbox_to_anchor=(1.2,0.5), title=\"Predictions\")\n",
    "\n",
    "ax_idx += 1\n",
    "fig.savefig(\"../figs/agree_vs_disagree_in1k.pdf\", bbox_inches=\"tight\")"
   ]
  },
  {
   "cell_type": "code",
   "execution_count": null,
   "id": "9057596b",
   "metadata": {},
   "outputs": [],
   "source": [
    "import scipy.stats\n",
    "\n",
    "data_agg = df.loc[(df.metric==\"rtd\") & (df.model1 != df.model2) & (df.eps==3.0) & (df.pred_type==\"agree\"), \"score\"].values\n",
    "data_disag = df.loc[(df.metric==\"rtd\") & (df.model1 != df.model2) & (df.eps==3.0) & (df.pred_type==\"disagree\"), \"score\"].values\n",
    "\n",
    "def mean_diff(x, y, axis):\n",
    "    return x.mean(axis=axis) - y.mean(axis=axis)\n",
    "\n",
    "scipy.stats.permutation_test([data_agg, data_disag], mean_diff, permutation_type=\"samples\", vectorized=True)"
   ]
  }
 ],
 "metadata": {
  "kernelspec": {
   "display_name": "univ",
   "language": "python",
   "name": "python3"
  },
  "language_info": {
   "codemirror_mode": {
    "name": "ipython",
    "version": 3
   },
   "file_extension": ".py",
   "mimetype": "text/x-python",
   "name": "python",
   "nbconvert_exporter": "python",
   "pygments_lexer": "ipython3",
   "version": "3.8.19"
  }
 },
 "nbformat": 4,
 "nbformat_minor": 5
}
